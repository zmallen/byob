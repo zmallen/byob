{
 "cells": [
  {
   "cell_type": "code",
   "execution_count": 1,
   "metadata": {},
   "outputs": [],
   "source": [
    "lines = []\n",
    "import json\n",
    "with open('all_breaches_apr14.json') as fd:\n",
    "    lines = json.load(fd)\n",
    "    "
   ]
  },
  {
   "cell_type": "code",
   "execution_count": 3,
   "metadata": {},
   "outputs": [
    {
     "name": "stdout",
     "output_type": "stream",
     "text": [
      "[u'PwnCount', u'Domain', u'IsSensitive', u'Name', u'Title', u'DataClasses', u'IsRetired', u'IsSpamList', u'BreachDate', u'IsFabricated', u'ModifiedDate', u'LogoPath', u'AddedDate', u'IsVerified', u'Description']\n"
     ]
    }
   ],
   "source": [
    "print(lines[0].keys())"
   ]
  },
  {
   "cell_type": "code",
   "execution_count": 17,
   "metadata": {},
   "outputs": [
    {
     "data": {
      "text/plain": [
       "[(u'Email addresses', 354),\n",
       " (u'Passwords', 298),\n",
       " (u'Usernames', 222),\n",
       " (u'IP addresses', 157),\n",
       " (u'Names', 122),\n",
       " (u'Dates of birth', 91),\n",
       " (u'Website activity', 73),\n",
       " (u'Phone numbers', 67),\n",
       " (u'Physical addresses', 63),\n",
       " (u'Genders', 56),\n",
       " (u'Geographic locations', 41),\n",
       " (u'Job titles', 17),\n",
       " (u'Private messages', 17),\n",
       " (u'Employers', 15),\n",
       " (u'Purchases', 11),\n",
       " (u'Security questions and answers', 11),\n",
       " (u'Spoken languages', 10),\n",
       " (u'Instant messenger identities', 8),\n",
       " (u'Payment histories', 7),\n",
       " (u'Government issued IDs', 7),\n",
       " (u'Social media profiles', 7),\n",
       " (u'Email messages', 7),\n",
       " (u'Browser user agent details', 7),\n",
       " (u'Account balances', 6),\n",
       " (u'Marital statuses', 6),\n",
       " (u'Income levels', 6),\n",
       " (u'Avatars', 5),\n",
       " (u'Credit cards', 5),\n",
       " (u'Ethnicities', 5),\n",
       " (u'Social connections', 5),\n",
       " (u'Device information', 5),\n",
       " (u'Home ownership statuses', 5),\n",
       " (u'User website URLs', 4),\n",
       " (u'Sexual orientations', 4),\n",
       " (u'Passport numbers', 4),\n",
       " (u'Education levels', 4),\n",
       " (u'Time zones', 4),\n",
       " (u'Family structure', 4),\n",
       " (u'Credit status information', 4),\n",
       " (u'Physical attributes', 4),\n",
       " (u'Partial credit card data', 4),\n",
       " (u'Salutations', 3),\n",
       " (u'Historical passwords', 3),\n",
       " (u\"Family members' names\", 3),\n",
       " (u'Personal descriptions', 3),\n",
       " (u'Relationship statuses', 2),\n",
       " (u'Homepage URLs', 2),\n",
       " (u'Sexual fetishes', 2),\n",
       " (u'Net worths', 2),\n",
       " (u'Occupations', 2),\n",
       " (u'Bank account numbers', 2),\n",
       " (u'Religions', 2),\n",
       " (u'Personal interests', 2),\n",
       " (u'Age groups', 2),\n",
       " (u'PINs', 2),\n",
       " (u'Financial investments', 2),\n",
       " (u'SMS messages', 2),\n",
       " (u'IMEI numbers', 2),\n",
       " (u'Years of birth', 2),\n",
       " (u'Drinking habits', 2),\n",
       " (u'Chat logs', 2),\n",
       " (u'Nationalities', 2),\n",
       " (u'Auth tokens', 2),\n",
       " (u'Biometric data', 1),\n",
       " (u'Payment methods', 1),\n",
       " (u'School grades (class levels)', 1),\n",
       " (u'Races', 1),\n",
       " (u'Work habits', 1),\n",
       " (u'Device usage tracking data', 1),\n",
       " (u'Recovery email addresses', 1),\n",
       " (u'Health insurance information', 1),\n",
       " (u'Car ownership statuses', 1),\n",
       " (u'Apps installed on devices', 1),\n",
       " (u'Fitness levels', 1),\n",
       " (u'Career levels', 1),\n",
       " (u'Customer interactions', 1),\n",
       " (u'Support tickets', 1),\n",
       " (u'Professional skills', 1),\n",
       " (u'Bios', 1),\n",
       " (u'User statuses', 1),\n",
       " (u'Deceased statuses', 1),\n",
       " (u'Buying preferences', 1),\n",
       " (u'Political donations', 1),\n",
       " (u'Smoking habits', 1),\n",
       " (u'Deceased date', 1),\n",
       " (u'Travel habits', 1),\n",
       " (u'Purchasing habits', 1),\n",
       " (u'Years of professional experience', 1),\n",
       " (u'Profile photos', 1),\n",
       " (u'Nicknames', 1),\n",
       " (u'Ages', 1),\n",
       " (u'Charitable donations', 1),\n",
       " (u'Astrological signs', 1),\n",
       " (u'Home loan information', 1),\n",
       " (u'Password hints', 1),\n",
       " (u'Vehicle details', 1),\n",
       " (u'Reward program balances', 1),\n",
       " (u'Audio recordings', 1),\n",
       " (u'Cellular network names', 1),\n",
       " (u'Social security numbers', 1),\n",
       " (u'Financial transactions', 1),\n",
       " (u'Survey results', 1),\n",
       " (u'Credit card CVV', 1),\n",
       " (u'MAC addresses', 1),\n",
       " (u'Address book contacts', 1),\n",
       " (u'Political views', 1),\n",
       " (u'Photos', 1),\n",
       " (u'Browsing histories', 1),\n",
       " (u'Personal health data', 1),\n",
       " (u'Eating habits', 1),\n",
       " (u'Parenting plans', 1),\n",
       " (u'Drug habits', 1),\n",
       " (u'Customer feedback', 1),\n",
       " (u'Beauty ratings', 1),\n",
       " (u'Utility bills', 1),\n",
       " (u'IMSI numbers', 1)]"
      ]
     },
     "execution_count": 17,
     "metadata": {},
     "output_type": "execute_result"
    }
   ],
   "source": [
    "from collections import Counter, OrderedDict\n",
    "counter = Counter(lines[0]['DataClasses'])\n",
    "counter\n",
    "for l in lines[1:]:\n",
    "    counter += Counter(l['DataClasses'])\n",
    "counter.most_common()"
   ]
  },
  {
   "cell_type": "code",
   "execution_count": null,
   "metadata": {},
   "outputs": [],
   "source": []
  }
 ],
 "metadata": {
  "kernelspec": {
   "display_name": "Python 2",
   "language": "python",
   "name": "python2"
  },
  "language_info": {
   "codemirror_mode": {
    "name": "ipython",
    "version": 2
   },
   "file_extension": ".py",
   "mimetype": "text/x-python",
   "name": "python",
   "nbconvert_exporter": "python",
   "pygments_lexer": "ipython2",
   "version": "2.7.16"
  }
 },
 "nbformat": 4,
 "nbformat_minor": 2
}
